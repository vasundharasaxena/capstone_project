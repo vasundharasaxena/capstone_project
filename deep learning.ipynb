{
 "cells": [
  {
   "cell_type": "code",
   "execution_count": 1,
   "metadata": {},
   "outputs": [],
   "source": [
    "import os"
   ]
  },
  {
   "cell_type": "code",
   "execution_count": 55,
   "metadata": {},
   "outputs": [],
   "source": [
    "from matplotlib import pyplot as plt\n",
    "%matplotlib inline\n",
    "import numpy as np\n",
    "import pandas as pd\n",
    "import seaborn as sns\n",
    "#import coremltools\n",
    "from scipy import stats\n",
    "from IPython.display import display, HTML\n",
    "\n",
    "from sklearn import metrics\n",
    "from sklearn.metrics import classification_report, accuracy_score\n",
    "from sklearn import preprocessing\n",
    "import tensorflow as tf\n",
    "\n",
    "import keras\n",
    "from keras.models import Sequential\n",
    "from keras.layers import Dense, Dropout, Flatten, Reshape\n",
    "from keras.layers import Conv2D, MaxPooling2D\n",
    "from keras.utils import np_utils"
   ]
  },
  {
   "cell_type": "code",
   "execution_count": 3,
   "metadata": {},
   "outputs": [],
   "source": [
    "columns=['user','activity','time','x','y','z']\n",
    "\n",
    "data_phone_accel_sum = pd.DataFrame(data=None,columns=columns)\n",
    "for dirname, _, filenames in os.walk('DATA/phone/accel'):\n",
    "    for filename in filenames:\n",
    "        df = pd.read_csv('DATA/phone/accel/'+filename , sep=\",\", encoding='utf-8', names=columns)\n",
    "        temp=pd.DataFrame(data=df.values, columns=columns)\n",
    "        data_phone_accel_sum=pd.concat([data_phone_accel_sum,temp])"
   ]
  },
  {
   "cell_type": "code",
   "execution_count": 4,
   "metadata": {},
   "outputs": [
    {
     "data": {
      "text/plain": [
       "(4804404, 6)"
      ]
     },
     "execution_count": 4,
     "metadata": {},
     "output_type": "execute_result"
    }
   ],
   "source": [
    "data_phone_accel_sum.shape"
   ]
  },
  {
   "cell_type": "code",
   "execution_count": 5,
   "metadata": {},
   "outputs": [
    {
     "name": "stdout",
     "output_type": "stream",
     "text": [
      "activity\n",
      "K    285190\n",
      "A    279817\n",
      "M    278766\n",
      "P    272730\n",
      "O    272219\n",
      "H    270756\n",
      "G    269609\n",
      "E    269604\n",
      "B    268409\n",
      "R    268065\n",
      "L    265781\n",
      "S    265214\n",
      "D    264592\n",
      "I    261360\n",
      "Q    260497\n",
      "C    255645\n",
      "J    249793\n",
      "F    246356\n",
      "Name: count, dtype: int64\n",
      "<class 'pandas.core.frame.DataFrame'>\n",
      "Index: 4804404 entries, 0 to 160778\n",
      "Data columns (total 6 columns):\n",
      " #   Column    Dtype  \n",
      "---  ------    -----  \n",
      " 0   user      object \n",
      " 1   activity  object \n",
      " 2   time      object \n",
      " 3   x         float64\n",
      " 4   y         float64\n",
      " 5   z         float64\n",
      "dtypes: float64(3), object(3)\n",
      "memory usage: 256.6+ MB\n"
     ]
    }
   ],
   "source": [
    "data_phone_accel_sum['z'] = data_phone_accel_sum['z'].str.replace(';','')\n",
    "data_phone_accel_sum['activity'].value_counts()\n",
    "data_phone_accel_sum['x']=data_phone_accel_sum['x'].astype('float')\n",
    "data_phone_accel_sum['y']=data_phone_accel_sum['y'].astype('float')\n",
    "data_phone_accel_sum['z']=data_phone_accel_sum['z'].astype('float')\n",
    "\n",
    "print(data_phone_accel_sum['activity'].value_counts())\n",
    "data_phone_accel_sum.info()"
   ]
  },
  {
   "cell_type": "code",
   "execution_count": 6,
   "metadata": {},
   "outputs": [],
   "source": [
    "data_phone_gyro_sum = pd.DataFrame(data=None,columns=columns)\n",
    "for dirname, _, filenames in os.walk('DATA/phone/gyro'):\n",
    "    for filename in filenames:\n",
    "        df = pd.read_csv('DATA/phone/gyro/'+filename , sep=\",\", encoding='utf-8', names=columns)\n",
    "        temp=pd.DataFrame(data=df.values, columns=columns)\n",
    "        data_phone_gyro_sum=pd.concat([data_phone_gyro_sum,temp])"
   ]
  },
  {
   "cell_type": "code",
   "execution_count": 7,
   "metadata": {},
   "outputs": [
    {
     "data": {
      "text/plain": [
       "(3608636, 6)"
      ]
     },
     "execution_count": 7,
     "metadata": {},
     "output_type": "execute_result"
    }
   ],
   "source": [
    "data_phone_gyro_sum.shape"
   ]
  },
  {
   "cell_type": "code",
   "execution_count": 8,
   "metadata": {},
   "outputs": [
    {
     "name": "stdout",
     "output_type": "stream",
     "text": [
      "activity\n",
      "A    203919\n",
      "M    202625\n",
      "G    202622\n",
      "H    202408\n",
      "K    202395\n",
      "D    202370\n",
      "E    202351\n",
      "P    202331\n",
      "R    202330\n",
      "S    202321\n",
      "B    200252\n",
      "O    198756\n",
      "L    197915\n",
      "I    197905\n",
      "Q    197894\n",
      "C    197857\n",
      "J    197844\n",
      "F    194540\n",
      "Name: count, dtype: int64\n",
      "<class 'pandas.core.frame.DataFrame'>\n",
      "Index: 3608636 entries, 0 to 80347\n",
      "Data columns (total 6 columns):\n",
      " #   Column    Dtype  \n",
      "---  ------    -----  \n",
      " 0   user      object \n",
      " 1   activity  object \n",
      " 2   time      object \n",
      " 3   x         float64\n",
      " 4   y         float64\n",
      " 5   z         float64\n",
      "dtypes: float64(3), object(3)\n",
      "memory usage: 192.7+ MB\n"
     ]
    }
   ],
   "source": [
    "data_phone_gyro_sum['z'] = data_phone_gyro_sum['z'].str.replace(';','')\n",
    "\n",
    "data_phone_gyro_sum['x']=data_phone_gyro_sum['x'].astype('float')\n",
    "data_phone_gyro_sum['y']=data_phone_gyro_sum['y'].astype('float')\n",
    "data_phone_gyro_sum['z']=data_phone_gyro_sum['z'].astype('float')\n",
    "\n",
    "print(data_phone_gyro_sum['activity'].value_counts())\n",
    "data_phone_gyro_sum.info()"
   ]
  },
  {
   "cell_type": "code",
   "execution_count": 9,
   "metadata": {},
   "outputs": [],
   "source": [
    "data_watch_gyro_sum = pd.DataFrame(data=None,columns=columns)\n",
    "for dirname, _, filenames in os.walk('DATA/watch/gyro'):\n",
    "    for filename in filenames:\n",
    "        df = pd.read_csv('DATA/watch/gyro/'+filename , sep=\",\", encoding='utf-8', names=columns)\n",
    "        temp=pd.DataFrame(data=df.values, columns=columns)\n",
    "        data_watch_gyro_sum=pd.concat([data_watch_gyro_sum,temp])"
   ]
  },
  {
   "cell_type": "code",
   "execution_count": 10,
   "metadata": {},
   "outputs": [
    {
     "name": "stdout",
     "output_type": "stream",
     "text": [
      "activity\n",
      "K    197917\n",
      "Q    197403\n",
      "D    195050\n",
      "P    194845\n",
      "E    194103\n",
      "S    193373\n",
      "A    192531\n",
      "I    192085\n",
      "M    191535\n",
      "R    190776\n",
      "G    190759\n",
      "L    190191\n",
      "J    189609\n",
      "B    187833\n",
      "O    187684\n",
      "F    187175\n",
      "H    187057\n",
      "C    180416\n",
      "Name: count, dtype: int64\n",
      "<class 'pandas.core.frame.DataFrame'>\n",
      "Index: 3440343 entries, 0 to 66555\n",
      "Data columns (total 6 columns):\n",
      " #   Column    Dtype  \n",
      "---  ------    -----  \n",
      " 0   user      object \n",
      " 1   activity  object \n",
      " 2   time      object \n",
      " 3   x         float64\n",
      " 4   y         float64\n",
      " 5   z         float64\n",
      "dtypes: float64(3), object(3)\n",
      "memory usage: 183.7+ MB\n"
     ]
    }
   ],
   "source": [
    "data_watch_gyro_sum['z'] = data_watch_gyro_sum['z'].str.replace(';','')\n",
    "data_watch_gyro_sum['x']=data_watch_gyro_sum['x'].astype('float')\n",
    "data_watch_gyro_sum['y']=data_watch_gyro_sum['y'].astype('float')\n",
    "data_watch_gyro_sum['z']=data_watch_gyro_sum['z'].astype('float')\n",
    "\n",
    "print(data_watch_gyro_sum['activity'].value_counts())\n",
    "data_watch_gyro_sum.info()"
   ]
  },
  {
   "cell_type": "code",
   "execution_count": 11,
   "metadata": {},
   "outputs": [],
   "source": [
    "data_watch_accel_sum = pd.DataFrame(data=None,columns=columns)\n",
    "for dirname, _, filenames in os.walk('DATA/watch/accel'):\n",
    "    for filename in filenames:\n",
    "        df = pd.read_csv('DATA/watch/accel/'+filename , sep=\",\", encoding='utf-8', names=columns)\n",
    "        temp=pd.DataFrame(data=df.values, columns=columns)\n",
    "        data_watch_accel_sum=pd.concat([data_watch_accel_sum,temp])"
   ]
  },
  {
   "cell_type": "code",
   "execution_count": 12,
   "metadata": {},
   "outputs": [
    {
     "data": {
      "text/html": [
       "<div>\n",
       "<style scoped>\n",
       "    .dataframe tbody tr th:only-of-type {\n",
       "        vertical-align: middle;\n",
       "    }\n",
       "\n",
       "    .dataframe tbody tr th {\n",
       "        vertical-align: top;\n",
       "    }\n",
       "\n",
       "    .dataframe thead th {\n",
       "        text-align: right;\n",
       "    }\n",
       "</style>\n",
       "<table border=\"1\" class=\"dataframe\">\n",
       "  <thead>\n",
       "    <tr style=\"text-align: right;\">\n",
       "      <th></th>\n",
       "      <th>user</th>\n",
       "      <th>activity</th>\n",
       "      <th>time</th>\n",
       "      <th>x</th>\n",
       "      <th>y</th>\n",
       "      <th>z</th>\n",
       "    </tr>\n",
       "  </thead>\n",
       "  <tbody>\n",
       "    <tr>\n",
       "      <th>0</th>\n",
       "      <td>NaN</td>\n",
       "      <td>NaN</td>\n",
       "      <td>NaN</td>\n",
       "      <td>NaN</td>\n",
       "      <td>NaN</td>\n",
       "      <td>NaN</td>\n",
       "    </tr>\n",
       "    <tr>\n",
       "      <th>0</th>\n",
       "      <td>1600</td>\n",
       "      <td>A</td>\n",
       "      <td>90426708196641</td>\n",
       "      <td>7.091625</td>\n",
       "      <td>-0.591667</td>\n",
       "      <td>8.195502;</td>\n",
       "    </tr>\n",
       "    <tr>\n",
       "      <th>1</th>\n",
       "      <td>1600</td>\n",
       "      <td>A</td>\n",
       "      <td>90426757696641</td>\n",
       "      <td>4.972757</td>\n",
       "      <td>-0.158317</td>\n",
       "      <td>6.6967316;</td>\n",
       "    </tr>\n",
       "    <tr>\n",
       "      <th>2</th>\n",
       "      <td>1600</td>\n",
       "      <td>A</td>\n",
       "      <td>90426807196641</td>\n",
       "      <td>3.25372</td>\n",
       "      <td>-0.191835</td>\n",
       "      <td>6.107758;</td>\n",
       "    </tr>\n",
       "    <tr>\n",
       "      <th>3</th>\n",
       "      <td>1600</td>\n",
       "      <td>A</td>\n",
       "      <td>90426856696641</td>\n",
       "      <td>2.801216</td>\n",
       "      <td>-0.155922</td>\n",
       "      <td>5.997625;</td>\n",
       "    </tr>\n",
       "    <tr>\n",
       "      <th>...</th>\n",
       "      <td>...</td>\n",
       "      <td>...</td>\n",
       "      <td>...</td>\n",
       "      <td>...</td>\n",
       "      <td>...</td>\n",
       "      <td>...</td>\n",
       "    </tr>\n",
       "    <tr>\n",
       "      <th>66587</th>\n",
       "      <td>1650</td>\n",
       "      <td>S</td>\n",
       "      <td>2426184421424592</td>\n",
       "      <td>1.4865</td>\n",
       "      <td>-13.302334</td>\n",
       "      <td>5.355231;</td>\n",
       "    </tr>\n",
       "    <tr>\n",
       "      <th>66588</th>\n",
       "      <td>1650</td>\n",
       "      <td>S</td>\n",
       "      <td>2426184471411932</td>\n",
       "      <td>4.017171</td>\n",
       "      <td>-13.146711</td>\n",
       "      <td>5.1182046;</td>\n",
       "    </tr>\n",
       "    <tr>\n",
       "      <th>66589</th>\n",
       "      <td>1650</td>\n",
       "      <td>S</td>\n",
       "      <td>2426184521399272</td>\n",
       "      <td>4.412214</td>\n",
       "      <td>-15.318253</td>\n",
       "      <td>3.3704374;</td>\n",
       "    </tr>\n",
       "    <tr>\n",
       "      <th>66590</th>\n",
       "      <td>1650</td>\n",
       "      <td>S</td>\n",
       "      <td>2426184571385262</td>\n",
       "      <td>4.426579</td>\n",
       "      <td>-13.012636</td>\n",
       "      <td>2.5755625;</td>\n",
       "    </tr>\n",
       "    <tr>\n",
       "      <th>66591</th>\n",
       "      <td>1650</td>\n",
       "      <td>S</td>\n",
       "      <td>2426184621371252</td>\n",
       "      <td>3.76578</td>\n",
       "      <td>-11.798776</td>\n",
       "      <td>2.166154;</td>\n",
       "    </tr>\n",
       "  </tbody>\n",
       "</table>\n",
       "<p>3777047 rows × 6 columns</p>\n",
       "</div>"
      ],
      "text/plain": [
       "       user activity              time         x          y           z\n",
       "0       NaN      NaN               NaN       NaN        NaN         NaN\n",
       "0      1600        A    90426708196641  7.091625  -0.591667   8.195502;\n",
       "1      1600        A    90426757696641  4.972757  -0.158317  6.6967316;\n",
       "2      1600        A    90426807196641   3.25372  -0.191835   6.107758;\n",
       "3      1600        A    90426856696641  2.801216  -0.155922   5.997625;\n",
       "...     ...      ...               ...       ...        ...         ...\n",
       "66587  1650        S  2426184421424592    1.4865 -13.302334   5.355231;\n",
       "66588  1650        S  2426184471411932  4.017171 -13.146711  5.1182046;\n",
       "66589  1650        S  2426184521399272  4.412214 -15.318253  3.3704374;\n",
       "66590  1650        S  2426184571385262  4.426579 -13.012636  2.5755625;\n",
       "66591  1650        S  2426184621371252   3.76578 -11.798776   2.166154;\n",
       "\n",
       "[3777047 rows x 6 columns]"
      ]
     },
     "execution_count": 12,
     "metadata": {},
     "output_type": "execute_result"
    }
   ],
   "source": [
    "data_watch_accel_sum"
   ]
  },
  {
   "cell_type": "code",
   "execution_count": 13,
   "metadata": {},
   "outputs": [
    {
     "name": "stdout",
     "output_type": "stream",
     "text": [
      "activity\n",
      "E    216529\n",
      "K    215879\n",
      "Q    215365\n",
      "D    213018\n",
      "P    212810\n",
      "S    211335\n",
      "A    210495\n",
      "O    210107\n",
      "I    210048\n",
      "M    209491\n",
      "H    209483\n",
      "R    208734\n",
      "G    208720\n",
      "C    207312\n",
      "B    205787\n",
      "F    205137\n",
      "L    203684\n",
      "J    203112\n",
      "Name: count, dtype: int64\n",
      "<class 'pandas.core.frame.DataFrame'>\n",
      "Index: 3777047 entries, 0 to 66591\n",
      "Data columns (total 6 columns):\n",
      " #   Column    Dtype  \n",
      "---  ------    -----  \n",
      " 0   user      object \n",
      " 1   activity  object \n",
      " 2   time      object \n",
      " 3   x         float64\n",
      " 4   y         float64\n",
      " 5   z         float64\n",
      "dtypes: float64(3), object(3)\n",
      "memory usage: 201.7+ MB\n"
     ]
    }
   ],
   "source": [
    "data_watch_accel_sum['z'] = data_watch_accel_sum['z'].str.replace(';','')\n",
    "data_watch_accel_sum['x']=data_watch_accel_sum['x'].astype('float')\n",
    "data_watch_accel_sum['y']=data_watch_accel_sum['y'].astype('float')\n",
    "data_watch_accel_sum['z']=data_watch_accel_sum['z'].astype('float')\n",
    "\n",
    "print(data_watch_accel_sum['activity'].value_counts())\n",
    "data_watch_accel_sum.info()"
   ]
  },
  {
   "cell_type": "markdown",
   "metadata": {},
   "source": [
    "\n",
    "### Combining Phone accel and gyro data"
   ]
  },
  {
   "cell_type": "code",
   "execution_count": 14,
   "metadata": {},
   "outputs": [],
   "source": [
    "data_phone_accel_sum = data_phone_accel_sum.iloc[1:]\n",
    "data_phone_accel_sum = data_phone_accel_sum.reset_index(drop=True)"
   ]
  },
  {
   "cell_type": "code",
   "execution_count": 15,
   "metadata": {},
   "outputs": [],
   "source": [
    "data_phone_gyro_sum = data_phone_gyro_sum.iloc[1:]\n",
    "data_phone_gyro_sum = data_phone_gyro_sum.reset_index(drop=True)"
   ]
  },
  {
   "cell_type": "code",
   "execution_count": 16,
   "metadata": {},
   "outputs": [
    {
     "data": {
      "text/html": [
       "<div>\n",
       "<style scoped>\n",
       "    .dataframe tbody tr th:only-of-type {\n",
       "        vertical-align: middle;\n",
       "    }\n",
       "\n",
       "    .dataframe tbody tr th {\n",
       "        vertical-align: top;\n",
       "    }\n",
       "\n",
       "    .dataframe thead th {\n",
       "        text-align: right;\n",
       "    }\n",
       "</style>\n",
       "<table border=\"1\" class=\"dataframe\">\n",
       "  <thead>\n",
       "    <tr style=\"text-align: right;\">\n",
       "      <th></th>\n",
       "      <th>user</th>\n",
       "      <th>activity</th>\n",
       "      <th>time</th>\n",
       "      <th>x</th>\n",
       "      <th>y</th>\n",
       "      <th>z</th>\n",
       "    </tr>\n",
       "  </thead>\n",
       "  <tbody>\n",
       "    <tr>\n",
       "      <th>0</th>\n",
       "      <td>1600</td>\n",
       "      <td>A</td>\n",
       "      <td>252207918580802</td>\n",
       "      <td>-0.853210</td>\n",
       "      <td>0.297226</td>\n",
       "      <td>0.890182</td>\n",
       "    </tr>\n",
       "    <tr>\n",
       "      <th>1</th>\n",
       "      <td>1600</td>\n",
       "      <td>A</td>\n",
       "      <td>252207968934806</td>\n",
       "      <td>-0.875137</td>\n",
       "      <td>0.015472</td>\n",
       "      <td>0.162231</td>\n",
       "    </tr>\n",
       "    <tr>\n",
       "      <th>2</th>\n",
       "      <td>1600</td>\n",
       "      <td>A</td>\n",
       "      <td>252208019288809</td>\n",
       "      <td>-0.720169</td>\n",
       "      <td>0.388489</td>\n",
       "      <td>-0.284012</td>\n",
       "    </tr>\n",
       "    <tr>\n",
       "      <th>3</th>\n",
       "      <td>1600</td>\n",
       "      <td>A</td>\n",
       "      <td>252208069642813</td>\n",
       "      <td>-0.571640</td>\n",
       "      <td>1.227402</td>\n",
       "      <td>-0.241669</td>\n",
       "    </tr>\n",
       "    <tr>\n",
       "      <th>4</th>\n",
       "      <td>1600</td>\n",
       "      <td>A</td>\n",
       "      <td>252208119996817</td>\n",
       "      <td>-0.380493</td>\n",
       "      <td>1.202835</td>\n",
       "      <td>-0.213135</td>\n",
       "    </tr>\n",
       "    <tr>\n",
       "      <th>...</th>\n",
       "      <td>...</td>\n",
       "      <td>...</td>\n",
       "      <td>...</td>\n",
       "      <td>...</td>\n",
       "      <td>...</td>\n",
       "      <td>...</td>\n",
       "    </tr>\n",
       "    <tr>\n",
       "      <th>3608630</th>\n",
       "      <td>1650</td>\n",
       "      <td>S</td>\n",
       "      <td>357733977635000</td>\n",
       "      <td>0.438889</td>\n",
       "      <td>0.171508</td>\n",
       "      <td>0.169377</td>\n",
       "    </tr>\n",
       "    <tr>\n",
       "      <th>3608631</th>\n",
       "      <td>1650</td>\n",
       "      <td>S</td>\n",
       "      <td>357734017925000</td>\n",
       "      <td>0.444215</td>\n",
       "      <td>0.158724</td>\n",
       "      <td>0.197074</td>\n",
       "    </tr>\n",
       "    <tr>\n",
       "      <th>3608632</th>\n",
       "      <td>1650</td>\n",
       "      <td>S</td>\n",
       "      <td>357734058325000</td>\n",
       "      <td>0.519849</td>\n",
       "      <td>0.037284</td>\n",
       "      <td>0.196009</td>\n",
       "    </tr>\n",
       "    <tr>\n",
       "      <th>3608633</th>\n",
       "      <td>1650</td>\n",
       "      <td>S</td>\n",
       "      <td>357734098619000</td>\n",
       "      <td>0.545415</td>\n",
       "      <td>-0.086286</td>\n",
       "      <td>0.178964</td>\n",
       "    </tr>\n",
       "    <tr>\n",
       "      <th>3608634</th>\n",
       "      <td>1650</td>\n",
       "      <td>S</td>\n",
       "      <td>357734138868000</td>\n",
       "      <td>0.471912</td>\n",
       "      <td>-0.201335</td>\n",
       "      <td>0.232228</td>\n",
       "    </tr>\n",
       "  </tbody>\n",
       "</table>\n",
       "<p>3608635 rows × 6 columns</p>\n",
       "</div>"
      ],
      "text/plain": [
       "         user activity             time         x         y         z\n",
       "0        1600        A  252207918580802 -0.853210  0.297226  0.890182\n",
       "1        1600        A  252207968934806 -0.875137  0.015472  0.162231\n",
       "2        1600        A  252208019288809 -0.720169  0.388489 -0.284012\n",
       "3        1600        A  252208069642813 -0.571640  1.227402 -0.241669\n",
       "4        1600        A  252208119996817 -0.380493  1.202835 -0.213135\n",
       "...       ...      ...              ...       ...       ...       ...\n",
       "3608630  1650        S  357733977635000  0.438889  0.171508  0.169377\n",
       "3608631  1650        S  357734017925000  0.444215  0.158724  0.197074\n",
       "3608632  1650        S  357734058325000  0.519849  0.037284  0.196009\n",
       "3608633  1650        S  357734098619000  0.545415 -0.086286  0.178964\n",
       "3608634  1650        S  357734138868000  0.471912 -0.201335  0.232228\n",
       "\n",
       "[3608635 rows x 6 columns]"
      ]
     },
     "execution_count": 16,
     "metadata": {},
     "output_type": "execute_result"
    }
   ],
   "source": [
    "data_phone_gyro_sum"
   ]
  },
  {
   "cell_type": "code",
   "execution_count": 17,
   "metadata": {},
   "outputs": [],
   "source": [
    "df_phone = pd.DataFrame(data=None, columns=columns)\n",
    "df_phone['user']= data_phone_accel_sum['user'].head(3608635)\n",
    "df_phone['activity']= data_phone_accel_sum['activity'].head(3608635)\n",
    "df_phone['time']= data_phone_accel_sum['time'].head(3608635)\n",
    "df_phone['x'] = data_phone_gyro_sum['x'].values + data_phone_accel_sum['x'].head(3608635).values\n",
    "df_phone['y'] = data_phone_gyro_sum['y'].values + data_phone_accel_sum['y'].head(3608635).values\n",
    "df_phone['z'] = data_phone_gyro_sum['z'].values + data_phone_accel_sum['z'].head(3608635).values"
   ]
  },
  {
   "cell_type": "markdown",
   "metadata": {},
   "source": [
    "### Combining watch acccel and gyro data"
   ]
  },
  {
   "cell_type": "code",
   "execution_count": 18,
   "metadata": {},
   "outputs": [],
   "source": [
    "data_watch_accel_sum = data_watch_accel_sum.iloc[1:]\n",
    "data_watch_accel_sum = data_watch_accel_sum.reset_index(drop=True)"
   ]
  },
  {
   "cell_type": "code",
   "execution_count": 19,
   "metadata": {},
   "outputs": [],
   "source": [
    "data_watch_gyro_sum = data_watch_gyro_sum.iloc[1:]\n",
    "data_watch_gyro_sum = data_watch_gyro_sum.reset_index(drop=True)"
   ]
  },
  {
   "cell_type": "code",
   "execution_count": 20,
   "metadata": {},
   "outputs": [],
   "source": [
    "df_watch = pd.DataFrame(data=None, columns=columns)\n",
    "df_watch['user']= data_watch_accel_sum['user'].head(3440342)\n",
    "df_watch['activity']= data_watch_accel_sum['activity'].head(3440342)\n",
    "df_watch['time']= data_watch_accel_sum['time'].head(3440342)\n",
    "df_watch['x'] = data_watch_gyro_sum['x'].values + data_watch_accel_sum['x'].head(3440342).values\n",
    "df_watch['y'] = data_watch_gyro_sum['x'].values + data_watch_accel_sum['y'].head(3440342).values\n",
    "df_watch['z'] = data_watch_gyro_sum['x'].values + data_watch_accel_sum['z'].head(3440342).values"
   ]
  },
  {
   "cell_type": "code",
   "execution_count": 21,
   "metadata": {},
   "outputs": [
    {
     "data": {
      "text/plain": [
       "activity\n",
       "A    217194\n",
       "K    213640\n",
       "H    207882\n",
       "I    207678\n",
       "M    207215\n",
       "G    206994\n",
       "E    206992\n",
       "B    205784\n",
       "D    201973\n",
       "P    201173\n",
       "O    200160\n",
       "R    196265\n",
       "L    194054\n",
       "S    193668\n",
       "C    193031\n",
       "Q    188703\n",
       "F    183740\n",
       "J    182489\n",
       "Name: count, dtype: int64"
      ]
     },
     "execution_count": 21,
     "metadata": {},
     "output_type": "execute_result"
    }
   ],
   "source": [
    "df_phone['activity'].value_counts()"
   ]
  },
  {
   "cell_type": "code",
   "execution_count": 22,
   "metadata": {},
   "outputs": [
    {
     "data": {
      "text/plain": [
       "activity\n",
       "E    198506\n",
       "K    197861\n",
       "D    195012\n",
       "P    194799\n",
       "Q    194782\n",
       "O    192099\n",
       "I    192041\n",
       "H    191460\n",
       "M    191170\n",
       "A    190717\n",
       "G    190713\n",
       "S    189727\n",
       "C    189302\n",
       "F    187129\n",
       "R    187126\n",
       "B    187115\n",
       "L    185677\n",
       "J    185106\n",
       "Name: count, dtype: int64"
      ]
     },
     "execution_count": 22,
     "metadata": {},
     "output_type": "execute_result"
    }
   ],
   "source": [
    "\n",
    "df_watch['activity'].value_counts()"
   ]
  },
  {
   "cell_type": "markdown",
   "metadata": {},
   "source": [
    "\n",
    "### Combining Phone and Watch Data"
   ]
  },
  {
   "cell_type": "code",
   "execution_count": 23,
   "metadata": {},
   "outputs": [],
   "source": [
    "df_phone_watch = pd.DataFrame(data=None, columns=columns)\n",
    "df_phone_watch['user']= df_phone['user'].head(3440342)\n",
    "df_phone_watch['activity']= df_phone['activity'].head(3440342)\n",
    "df_phone_watch['time']= df_phone['time'].head(3440342)\n",
    "df_phone_watch['x'] = df_watch['x'].values + df_phone['x'].head(3440342).values\n",
    "df_phone_watch['y'] = df_watch['y'].values + df_phone['y'].head(3440342).values\n",
    "df_phone_watch['z'] = df_watch['z'].values + df_phone['z'].head(3440342).values"
   ]
  },
  {
   "cell_type": "code",
   "execution_count": 24,
   "metadata": {},
   "outputs": [
    {
     "name": "stdout",
     "output_type": "stream",
     "text": [
      "<class 'pandas.core.frame.DataFrame'>\n",
      "RangeIndex: 3440342 entries, 0 to 3440341\n",
      "Data columns (total 6 columns):\n",
      " #   Column    Dtype  \n",
      "---  ------    -----  \n",
      " 0   user      object \n",
      " 1   activity  object \n",
      " 2   time      object \n",
      " 3   x         float64\n",
      " 4   y         float64\n",
      " 5   z         float64\n",
      "dtypes: float64(3), object(3)\n",
      "memory usage: 157.5+ MB\n"
     ]
    }
   ],
   "source": [
    "df_phone_watch.info()"
   ]
  },
  {
   "cell_type": "code",
   "execution_count": 25,
   "metadata": {},
   "outputs": [
    {
     "data": {
      "text/plain": [
       "activity\n",
       "A    208259\n",
       "K    204705\n",
       "M    198279\n",
       "E    198059\n",
       "B    196849\n",
       "G    194809\n",
       "D    193039\n",
       "C    193031\n",
       "P    192236\n",
       "O    191229\n",
       "H    190017\n",
       "I    189812\n",
       "R    187332\n",
       "L    185123\n",
       "S    184736\n",
       "F    183740\n",
       "Q    179770\n",
       "J    169317\n",
       "Name: count, dtype: int64"
      ]
     },
     "execution_count": 25,
     "metadata": {},
     "output_type": "execute_result"
    }
   ],
   "source": [
    "df_phone_watch['activity'].value_counts()"
   ]
  },
  {
   "cell_type": "code",
   "execution_count": 26,
   "metadata": {},
   "outputs": [],
   "source": [
    "\n",
    "Fs = 20"
   ]
  },
  {
   "cell_type": "code",
   "execution_count": 27,
   "metadata": {},
   "outputs": [],
   "source": [
    "activities = df_phone_watch['activity'].value_counts().index"
   ]
  },
  {
   "cell_type": "code",
   "execution_count": 28,
   "metadata": {},
   "outputs": [],
   "source": [
    "\n",
    "df_phone_watch = df_phone_watch.drop(['user', 'time'], axis=1)"
   ]
  },
  {
   "cell_type": "code",
   "execution_count": 29,
   "metadata": {},
   "outputs": [
    {
     "data": {
      "text/plain": [
       "activity\n",
       "A    208259\n",
       "K    204705\n",
       "M    198279\n",
       "E    198059\n",
       "B    196849\n",
       "G    194809\n",
       "D    193039\n",
       "C    193031\n",
       "P    192236\n",
       "O    191229\n",
       "H    190017\n",
       "I    189812\n",
       "R    187332\n",
       "L    185123\n",
       "S    184736\n",
       "F    183740\n",
       "Q    179770\n",
       "J    169317\n",
       "Name: count, dtype: int64"
      ]
     },
     "execution_count": 29,
     "metadata": {},
     "output_type": "execute_result"
    }
   ],
   "source": [
    "df_phone_watch['activity'].value_counts()"
   ]
  },
  {
   "cell_type": "code",
   "execution_count": 30,
   "metadata": {},
   "outputs": [],
   "source": [
    "df_a = df_phone_watch[df_phone_watch['activity']=='A'].head(174604)\n",
    "df_m = df_phone_watch[df_phone_watch['activity']=='M'].head(174604)\n",
    "df_k = df_phone_watch[df_phone_watch['activity']=='K'].head(174604)\n",
    "df_p = df_phone_watch[df_phone_watch['activity']=='P'].head(174604)\n",
    "df_e = df_phone_watch[df_phone_watch['activity']=='E'].head(174604)\n",
    "df_o = df_phone_watch[df_phone_watch['activity']=='O'].head(174604)\n",
    "df_c = df_phone_watch[df_phone_watch['activity']=='C'].head(174604)\n",
    "df_d = df_phone_watch[df_phone_watch['activity']=='D'].head(174604)\n",
    "df_l = df_phone_watch[df_phone_watch['activity']=='L'].head(174604)\n",
    "df_b = df_phone_watch[df_phone_watch['activity']=='B'].head(174604)\n",
    "df_h = df_phone_watch[df_phone_watch['activity']=='H'].head(174604)\n",
    "df_f = df_phone_watch[df_phone_watch['activity']=='F'].head(174604)\n",
    "df_g = df_phone_watch[df_phone_watch['activity']=='G'].head(174604)\n",
    "df_q = df_phone_watch[df_phone_watch['activity']=='Q'].head(174604)\n",
    "df_r = df_phone_watch[df_phone_watch['activity']=='R'].head(174604)\n",
    "df_s = df_phone_watch[df_phone_watch['activity']=='S'].head(174604)\n",
    "df_i = df_phone_watch[df_phone_watch['activity']=='I'].head(174604)\n",
    "df_j = df_phone_watch[df_phone_watch['activity']=='J']"
   ]
  },
  {
   "cell_type": "code",
   "execution_count": 31,
   "metadata": {},
   "outputs": [
    {
     "data": {
      "text/html": [
       "<div>\n",
       "<style scoped>\n",
       "    .dataframe tbody tr th:only-of-type {\n",
       "        vertical-align: middle;\n",
       "    }\n",
       "\n",
       "    .dataframe tbody tr th {\n",
       "        vertical-align: top;\n",
       "    }\n",
       "\n",
       "    .dataframe thead th {\n",
       "        text-align: right;\n",
       "    }\n",
       "</style>\n",
       "<table border=\"1\" class=\"dataframe\">\n",
       "  <thead>\n",
       "    <tr style=\"text-align: right;\">\n",
       "      <th></th>\n",
       "      <th>activity</th>\n",
       "      <th>x</th>\n",
       "      <th>y</th>\n",
       "      <th>z</th>\n",
       "    </tr>\n",
       "  </thead>\n",
       "  <tbody>\n",
       "    <tr>\n",
       "      <th>7146</th>\n",
       "      <td>C</td>\n",
       "      <td>5.872117</td>\n",
       "      <td>6.927683</td>\n",
       "      <td>0.287083</td>\n",
       "    </tr>\n",
       "    <tr>\n",
       "      <th>7147</th>\n",
       "      <td>C</td>\n",
       "      <td>14.562456</td>\n",
       "      <td>3.029939</td>\n",
       "      <td>13.795998</td>\n",
       "    </tr>\n",
       "    <tr>\n",
       "      <th>7148</th>\n",
       "      <td>C</td>\n",
       "      <td>14.696014</td>\n",
       "      <td>-9.832061</td>\n",
       "      <td>17.014784</td>\n",
       "    </tr>\n",
       "    <tr>\n",
       "      <th>7149</th>\n",
       "      <td>C</td>\n",
       "      <td>-0.008422</td>\n",
       "      <td>-4.400377</td>\n",
       "      <td>10.874305</td>\n",
       "    </tr>\n",
       "    <tr>\n",
       "      <th>7150</th>\n",
       "      <td>C</td>\n",
       "      <td>-1.949504</td>\n",
       "      <td>-0.021005</td>\n",
       "      <td>5.857314</td>\n",
       "    </tr>\n",
       "    <tr>\n",
       "      <th>...</th>\n",
       "      <td>...</td>\n",
       "      <td>...</td>\n",
       "      <td>...</td>\n",
       "      <td>...</td>\n",
       "    </tr>\n",
       "    <tr>\n",
       "      <th>3195053</th>\n",
       "      <td>C</td>\n",
       "      <td>2.261849</td>\n",
       "      <td>-4.518376</td>\n",
       "      <td>19.177586</td>\n",
       "    </tr>\n",
       "    <tr>\n",
       "      <th>3195054</th>\n",
       "      <td>C</td>\n",
       "      <td>4.651885</td>\n",
       "      <td>-1.980438</td>\n",
       "      <td>17.193416</td>\n",
       "    </tr>\n",
       "    <tr>\n",
       "      <th>3195055</th>\n",
       "      <td>C</td>\n",
       "      <td>4.618292</td>\n",
       "      <td>-6.437165</td>\n",
       "      <td>16.685508</td>\n",
       "    </tr>\n",
       "    <tr>\n",
       "      <th>3195056</th>\n",
       "      <td>C</td>\n",
       "      <td>3.418639</td>\n",
       "      <td>-5.740864</td>\n",
       "      <td>16.321177</td>\n",
       "    </tr>\n",
       "    <tr>\n",
       "      <th>3195057</th>\n",
       "      <td>C</td>\n",
       "      <td>4.627415</td>\n",
       "      <td>-2.613003</td>\n",
       "      <td>15.785382</td>\n",
       "    </tr>\n",
       "  </tbody>\n",
       "</table>\n",
       "<p>174604 rows × 4 columns</p>\n",
       "</div>"
      ],
      "text/plain": [
       "        activity          x         y          z\n",
       "7146           C   5.872117  6.927683   0.287083\n",
       "7147           C  14.562456  3.029939  13.795998\n",
       "7148           C  14.696014 -9.832061  17.014784\n",
       "7149           C  -0.008422 -4.400377  10.874305\n",
       "7150           C  -1.949504 -0.021005   5.857314\n",
       "...          ...        ...       ...        ...\n",
       "3195053        C   2.261849 -4.518376  19.177586\n",
       "3195054        C   4.651885 -1.980438  17.193416\n",
       "3195055        C   4.618292 -6.437165  16.685508\n",
       "3195056        C   3.418639 -5.740864  16.321177\n",
       "3195057        C   4.627415 -2.613003  15.785382\n",
       "\n",
       "[174604 rows x 4 columns]"
      ]
     },
     "execution_count": 31,
     "metadata": {},
     "output_type": "execute_result"
    }
   ],
   "source": [
    "df_c"
   ]
  },
  {
   "cell_type": "code",
   "execution_count": 32,
   "metadata": {},
   "outputs": [],
   "source": [
    "df_list = [df_a, df_m, df_k, df_p, df_e, df_o, df_c, df_d, df_l, df_b, df_h, df_f, df_g, df_q, df_r, df_s, df_i, df_j]"
   ]
  },
  {
   "cell_type": "code",
   "execution_count": 33,
   "metadata": {},
   "outputs": [],
   "source": [
    "\n",
    "balanced_data = pd.concat(df_list, ignore_index=True)"
   ]
  },
  {
   "cell_type": "code",
   "execution_count": 34,
   "metadata": {},
   "outputs": [
    {
     "data": {
      "text/plain": [
       "activity\n",
       "A    174604\n",
       "M    174604\n",
       "I    174604\n",
       "S    174604\n",
       "R    174604\n",
       "Q    174604\n",
       "G    174604\n",
       "F    174604\n",
       "H    174604\n",
       "B    174604\n",
       "L    174604\n",
       "D    174604\n",
       "C    174604\n",
       "O    174604\n",
       "E    174604\n",
       "P    174604\n",
       "K    174604\n",
       "J    169317\n",
       "Name: count, dtype: int64"
      ]
     },
     "execution_count": 34,
     "metadata": {},
     "output_type": "execute_result"
    }
   ],
   "source": [
    "balanced_data['activity'].value_counts()"
   ]
  },
  {
   "cell_type": "code",
   "execution_count": 35,
   "metadata": {},
   "outputs": [],
   "source": [
    "from sklearn.preprocessing import LabelEncoder"
   ]
  },
  {
   "cell_type": "code",
   "execution_count": 36,
   "metadata": {},
   "outputs": [
    {
     "data": {
      "text/html": [
       "<div>\n",
       "<style scoped>\n",
       "    .dataframe tbody tr th:only-of-type {\n",
       "        vertical-align: middle;\n",
       "    }\n",
       "\n",
       "    .dataframe tbody tr th {\n",
       "        vertical-align: top;\n",
       "    }\n",
       "\n",
       "    .dataframe thead th {\n",
       "        text-align: right;\n",
       "    }\n",
       "</style>\n",
       "<table border=\"1\" class=\"dataframe\">\n",
       "  <thead>\n",
       "    <tr style=\"text-align: right;\">\n",
       "      <th></th>\n",
       "      <th>activity</th>\n",
       "      <th>x</th>\n",
       "      <th>y</th>\n",
       "      <th>z</th>\n",
       "      <th>label</th>\n",
       "    </tr>\n",
       "  </thead>\n",
       "  <tbody>\n",
       "    <tr>\n",
       "      <th>0</th>\n",
       "      <td>A</td>\n",
       "      <td>6.188597</td>\n",
       "      <td>8.814006</td>\n",
       "      <td>10.455713</td>\n",
       "      <td>0</td>\n",
       "    </tr>\n",
       "    <tr>\n",
       "      <th>1</th>\n",
       "      <td>A</td>\n",
       "      <td>3.605272</td>\n",
       "      <td>10.013322</td>\n",
       "      <td>8.263343</td>\n",
       "      <td>0</td>\n",
       "    </tr>\n",
       "    <tr>\n",
       "      <th>2</th>\n",
       "      <td>A</td>\n",
       "      <td>4.606045</td>\n",
       "      <td>11.376722</td>\n",
       "      <td>8.513901</td>\n",
       "      <td>0</td>\n",
       "    </tr>\n",
       "    <tr>\n",
       "      <th>3</th>\n",
       "      <td>A</td>\n",
       "      <td>2.718174</td>\n",
       "      <td>13.761097</td>\n",
       "      <td>5.978487</td>\n",
       "      <td>0</td>\n",
       "    </tr>\n",
       "    <tr>\n",
       "      <th>4</th>\n",
       "      <td>A</td>\n",
       "      <td>1.299151</td>\n",
       "      <td>14.153046</td>\n",
       "      <td>3.168536</td>\n",
       "      <td>0</td>\n",
       "    </tr>\n",
       "    <tr>\n",
       "      <th>...</th>\n",
       "      <td>...</td>\n",
       "      <td>...</td>\n",
       "      <td>...</td>\n",
       "      <td>...</td>\n",
       "      <td>...</td>\n",
       "    </tr>\n",
       "    <tr>\n",
       "      <th>3137580</th>\n",
       "      <td>J</td>\n",
       "      <td>-13.463638</td>\n",
       "      <td>-8.818773</td>\n",
       "      <td>-2.320777</td>\n",
       "      <td>9</td>\n",
       "    </tr>\n",
       "    <tr>\n",
       "      <th>3137581</th>\n",
       "      <td>J</td>\n",
       "      <td>-13.582652</td>\n",
       "      <td>-9.013937</td>\n",
       "      <td>-2.345182</td>\n",
       "      <td>9</td>\n",
       "    </tr>\n",
       "    <tr>\n",
       "      <th>3137582</th>\n",
       "      <td>J</td>\n",
       "      <td>-13.629185</td>\n",
       "      <td>-8.722762</td>\n",
       "      <td>-2.201741</td>\n",
       "      <td>9</td>\n",
       "    </tr>\n",
       "    <tr>\n",
       "      <th>3137583</th>\n",
       "      <td>J</td>\n",
       "      <td>-13.675635</td>\n",
       "      <td>-9.399319</td>\n",
       "      <td>-2.620970</td>\n",
       "      <td>9</td>\n",
       "    </tr>\n",
       "    <tr>\n",
       "      <th>3137584</th>\n",
       "      <td>J</td>\n",
       "      <td>-13.889722</td>\n",
       "      <td>-9.648993</td>\n",
       "      <td>-2.817738</td>\n",
       "      <td>9</td>\n",
       "    </tr>\n",
       "  </tbody>\n",
       "</table>\n",
       "<p>3137585 rows × 5 columns</p>\n",
       "</div>"
      ],
      "text/plain": [
       "        activity          x          y          z  label\n",
       "0              A   6.188597   8.814006  10.455713      0\n",
       "1              A   3.605272  10.013322   8.263343      0\n",
       "2              A   4.606045  11.376722   8.513901      0\n",
       "3              A   2.718174  13.761097   5.978487      0\n",
       "4              A   1.299151  14.153046   3.168536      0\n",
       "...          ...        ...        ...        ...    ...\n",
       "3137580        J -13.463638  -8.818773  -2.320777      9\n",
       "3137581        J -13.582652  -9.013937  -2.345182      9\n",
       "3137582        J -13.629185  -8.722762  -2.201741      9\n",
       "3137583        J -13.675635  -9.399319  -2.620970      9\n",
       "3137584        J -13.889722  -9.648993  -2.817738      9\n",
       "\n",
       "[3137585 rows x 5 columns]"
      ]
     },
     "execution_count": 36,
     "metadata": {},
     "output_type": "execute_result"
    }
   ],
   "source": [
    "label = LabelEncoder()\n",
    "balanced_data['label'] = label.fit_transform(balanced_data['activity']) \n",
    "balanced_data"
   ]
  },
  {
   "cell_type": "code",
   "execution_count": 37,
   "metadata": {},
   "outputs": [
    {
     "data": {
      "text/plain": [
       "array(['A', 'B', 'C', 'D', 'E', 'F', 'G', 'H', 'I', 'J', 'K', 'L', 'M',\n",
       "       'O', 'P', 'Q', 'R', 'S'], dtype=object)"
      ]
     },
     "execution_count": 37,
     "metadata": {},
     "output_type": "execute_result"
    }
   ],
   "source": [
    "label.classes_"
   ]
  },
  {
   "cell_type": "markdown",
   "metadata": {},
   "source": [
    "\n",
    "## Standardize Data"
   ]
  },
  {
   "cell_type": "code",
   "execution_count": 38,
   "metadata": {},
   "outputs": [
    {
     "data": {
      "text/html": [
       "<div>\n",
       "<style scoped>\n",
       "    .dataframe tbody tr th:only-of-type {\n",
       "        vertical-align: middle;\n",
       "    }\n",
       "\n",
       "    .dataframe tbody tr th {\n",
       "        vertical-align: top;\n",
       "    }\n",
       "\n",
       "    .dataframe thead th {\n",
       "        text-align: right;\n",
       "    }\n",
       "</style>\n",
       "<table border=\"1\" class=\"dataframe\">\n",
       "  <thead>\n",
       "    <tr style=\"text-align: right;\">\n",
       "      <th></th>\n",
       "      <th>x</th>\n",
       "      <th>y</th>\n",
       "      <th>z</th>\n",
       "      <th>label</th>\n",
       "    </tr>\n",
       "  </thead>\n",
       "  <tbody>\n",
       "    <tr>\n",
       "      <th>0</th>\n",
       "      <td>0.644592</td>\n",
       "      <td>1.511277</td>\n",
       "      <td>1.015689</td>\n",
       "      <td>0</td>\n",
       "    </tr>\n",
       "    <tr>\n",
       "      <th>1</th>\n",
       "      <td>0.362824</td>\n",
       "      <td>1.640989</td>\n",
       "      <td>0.721891</td>\n",
       "      <td>0</td>\n",
       "    </tr>\n",
       "    <tr>\n",
       "      <th>2</th>\n",
       "      <td>0.471980</td>\n",
       "      <td>1.788448</td>\n",
       "      <td>0.755468</td>\n",
       "      <td>0</td>\n",
       "    </tr>\n",
       "    <tr>\n",
       "      <th>3</th>\n",
       "      <td>0.266066</td>\n",
       "      <td>2.046331</td>\n",
       "      <td>0.415699</td>\n",
       "      <td>0</td>\n",
       "    </tr>\n",
       "    <tr>\n",
       "      <th>4</th>\n",
       "      <td>0.111291</td>\n",
       "      <td>2.088722</td>\n",
       "      <td>0.039139</td>\n",
       "      <td>0</td>\n",
       "    </tr>\n",
       "    <tr>\n",
       "      <th>...</th>\n",
       "      <td>...</td>\n",
       "      <td>...</td>\n",
       "      <td>...</td>\n",
       "      <td>...</td>\n",
       "    </tr>\n",
       "    <tr>\n",
       "      <th>3137580</th>\n",
       "      <td>-1.498913</td>\n",
       "      <td>-0.395803</td>\n",
       "      <td>-0.696481</td>\n",
       "      <td>9</td>\n",
       "    </tr>\n",
       "    <tr>\n",
       "      <th>3137581</th>\n",
       "      <td>-1.511894</td>\n",
       "      <td>-0.416911</td>\n",
       "      <td>-0.699752</td>\n",
       "      <td>9</td>\n",
       "    </tr>\n",
       "    <tr>\n",
       "      <th>3137582</th>\n",
       "      <td>-1.516970</td>\n",
       "      <td>-0.385419</td>\n",
       "      <td>-0.680529</td>\n",
       "      <td>9</td>\n",
       "    </tr>\n",
       "    <tr>\n",
       "      <th>3137583</th>\n",
       "      <td>-1.522036</td>\n",
       "      <td>-0.458592</td>\n",
       "      <td>-0.736710</td>\n",
       "      <td>9</td>\n",
       "    </tr>\n",
       "    <tr>\n",
       "      <th>3137584</th>\n",
       "      <td>-1.545387</td>\n",
       "      <td>-0.485596</td>\n",
       "      <td>-0.763079</td>\n",
       "      <td>9</td>\n",
       "    </tr>\n",
       "  </tbody>\n",
       "</table>\n",
       "<p>3137585 rows × 4 columns</p>\n",
       "</div>"
      ],
      "text/plain": [
       "                x         y         z  label\n",
       "0        0.644592  1.511277  1.015689      0\n",
       "1        0.362824  1.640989  0.721891      0\n",
       "2        0.471980  1.788448  0.755468      0\n",
       "3        0.266066  2.046331  0.415699      0\n",
       "4        0.111291  2.088722  0.039139      0\n",
       "...           ...       ...       ...    ...\n",
       "3137580 -1.498913 -0.395803 -0.696481      9\n",
       "3137581 -1.511894 -0.416911 -0.699752      9\n",
       "3137582 -1.516970 -0.385419 -0.680529      9\n",
       "3137583 -1.522036 -0.458592 -0.736710      9\n",
       "3137584 -1.545387 -0.485596 -0.763079      9\n",
       "\n",
       "[3137585 rows x 4 columns]"
      ]
     },
     "execution_count": 38,
     "metadata": {},
     "output_type": "execute_result"
    }
   ],
   "source": [
    "from sklearn.preprocessing import StandardScaler\n",
    "\n",
    "x = balanced_data[['x','y','z']]\n",
    "y = balanced_data['label']\n",
    "scaler = StandardScaler()\n",
    "x = scaler.fit_transform(x)\n",
    "\n",
    "scaled_x = pd.DataFrame(data=x, columns=['x','y','z'])\n",
    "scaled_x['label'] = y.values\n",
    "\n",
    "scaled_x"
   ]
  },
  {
   "cell_type": "markdown",
   "metadata": {},
   "source": [
    "\n",
    "# Frame Preparation"
   ]
  },
  {
   "cell_type": "code",
   "execution_count": 39,
   "metadata": {},
   "outputs": [],
   "source": [
    "import scipy.stats as stats"
   ]
  },
  {
   "cell_type": "code",
   "execution_count": 40,
   "metadata": {},
   "outputs": [],
   "source": [
    "Fs=20\n",
    "frame_size = Fs*4 #80\n",
    "hop_size = Fs*2 #40"
   ]
  },
  {
   "cell_type": "code",
   "execution_count": 41,
   "metadata": {},
   "outputs": [],
   "source": [
    "def get_frames(df, frame_size, hop_size):\n",
    "    \n",
    "    N_FEATURES = 3\n",
    "    frames = []\n",
    "    labels = []\n",
    "    for i in range(0,len(df )- frame_size, hop_size):\n",
    "        x = df['x'].values[i: i+frame_size]\n",
    "        y = df['y'].values[i: i+frame_size]\n",
    "        z = df['z'].values[i: i+frame_size]\n",
    "        \n",
    "        label = stats.mode(df['label'][i: i+frame_size])[0]\n",
    "        frames.append([x,y,z])\n",
    "        labels.append(label)\n",
    "        \n",
    "    frames = np.asarray(frames).reshape(-1, frame_size, N_FEATURES)\n",
    "    labels = np.asarray(labels)\n",
    "    \n",
    "    return frames, labels"
   ]
  },
  {
   "cell_type": "code",
   "execution_count": 42,
   "metadata": {},
   "outputs": [],
   "source": [
    "x,y = get_frames(scaled_x, frame_size, hop_size)"
   ]
  },
  {
   "cell_type": "code",
   "execution_count": 43,
   "metadata": {},
   "outputs": [
    {
     "data": {
      "text/plain": [
       "((78438, 80, 3), (78438,))"
      ]
     },
     "execution_count": 43,
     "metadata": {},
     "output_type": "execute_result"
    }
   ],
   "source": [
    "\n",
    "x.shape, y.shape"
   ]
  },
  {
   "cell_type": "code",
   "execution_count": 44,
   "metadata": {},
   "outputs": [],
   "source": [
    "from sklearn.model_selection import train_test_split"
   ]
  },
  {
   "cell_type": "code",
   "execution_count": 45,
   "metadata": {},
   "outputs": [],
   "source": [
    "x_train, x_test, y_train, y_test = train_test_split(x,y,test_size=0.30, random_state = 0, stratify = y)"
   ]
  },
  {
   "cell_type": "code",
   "execution_count": 46,
   "metadata": {},
   "outputs": [
    {
     "data": {
      "text/plain": [
       "((54906, 80, 3), (54906,))"
      ]
     },
     "execution_count": 46,
     "metadata": {},
     "output_type": "execute_result"
    }
   ],
   "source": [
    "x_train.shape,y_train.shape"
   ]
  },
  {
   "cell_type": "code",
   "execution_count": 47,
   "metadata": {},
   "outputs": [
    {
     "data": {
      "text/plain": [
       "((23532, 80, 3), (23532,))"
      ]
     },
     "execution_count": 47,
     "metadata": {},
     "output_type": "execute_result"
    }
   ],
   "source": [
    "x_test.shape, y_test.shape"
   ]
  },
  {
   "cell_type": "code",
   "execution_count": 48,
   "metadata": {},
   "outputs": [
    {
     "data": {
      "text/plain": [
       "((80, 3), (80, 3))"
      ]
     },
     "execution_count": 48,
     "metadata": {},
     "output_type": "execute_result"
    }
   ],
   "source": [
    "x_train[0].shape, x_test[0].shape"
   ]
  },
  {
   "cell_type": "code",
   "execution_count": 49,
   "metadata": {},
   "outputs": [],
   "source": [
    "x_train = x_train.reshape(x_train.shape[0], 80, 3,1)\n",
    "x_test = x_test.reshape(x_test.shape[0], 80, 3,1)"
   ]
  },
  {
   "cell_type": "markdown",
   "metadata": {},
   "source": [
    "## 2D CNN Model"
   ]
  },
  {
   "cell_type": "code",
   "execution_count": 50,
   "metadata": {},
   "outputs": [],
   "source": [
    "model = Sequential()\n",
    "model.add(Conv2D(256, (2,2), activation = 'relu', input_shape = x_train[0].shape))\n",
    "model.add(Dropout(0.1))\n",
    "\n",
    "model.add(Conv2D(512, (2,2), activation = 'relu'))\n",
    "model.add(Dropout(0.2))\n",
    "\n",
    "model.add(Flatten())\n",
    "\n",
    "model.add(Dense(1024, activation = 'relu'))\n",
    "model.add(Dropout(0.5))\n",
    "\n",
    "model.add(Dense(18, activation='softmax'))"
   ]
  },
  {
   "cell_type": "code",
   "execution_count": 51,
   "metadata": {},
   "outputs": [],
   "source": [
    "model.compile(optimizer=\"Adam\", loss=\"sparse_categorical_crossentropy\", metrics=[\"accuracy\"]) "
   ]
  },
  {
   "cell_type": "code",
   "execution_count": 52,
   "metadata": {},
   "outputs": [
    {
     "name": "stdout",
     "output_type": "stream",
     "text": [
      "Epoch 1/25\n",
      "1716/1716 [==============================] - 31s 14ms/step - loss: 2.4030 - accuracy: 0.2192 - val_loss: 2.0327 - val_accuracy: 0.3375\n",
      "Epoch 2/25\n",
      "1716/1716 [==============================] - 26s 15ms/step - loss: 1.8961 - accuracy: 0.3812 - val_loss: 1.5967 - val_accuracy: 0.5012\n",
      "Epoch 3/25\n",
      "1716/1716 [==============================] - 24s 14ms/step - loss: 1.5455 - accuracy: 0.4951 - val_loss: 1.4166 - val_accuracy: 0.5558\n",
      "Epoch 4/25\n",
      "1716/1716 [==============================] - 24s 14ms/step - loss: 1.3156 - accuracy: 0.5696 - val_loss: 1.3022 - val_accuracy: 0.5906\n",
      "Epoch 5/25\n",
      "1716/1716 [==============================] - 23s 14ms/step - loss: 1.1517 - accuracy: 0.6238 - val_loss: 1.2740 - val_accuracy: 0.6021\n",
      "Epoch 6/25\n",
      "1716/1716 [==============================] - 24s 14ms/step - loss: 1.0252 - accuracy: 0.6646 - val_loss: 1.2302 - val_accuracy: 0.6241\n",
      "Epoch 7/25\n",
      "1716/1716 [==============================] - 25s 14ms/step - loss: 0.9299 - accuracy: 0.6952 - val_loss: 1.2356 - val_accuracy: 0.6221\n",
      "Epoch 8/25\n",
      "1716/1716 [==============================] - 24s 14ms/step - loss: 0.8531 - accuracy: 0.7191 - val_loss: 1.2635 - val_accuracy: 0.6263\n",
      "Epoch 9/25\n",
      "1716/1716 [==============================] - 24s 14ms/step - loss: 0.7919 - accuracy: 0.7416 - val_loss: 1.2123 - val_accuracy: 0.6367\n",
      "Epoch 10/25\n",
      "1716/1716 [==============================] - 24s 14ms/step - loss: 0.7434 - accuracy: 0.7569 - val_loss: 1.2508 - val_accuracy: 0.6452\n",
      "Epoch 11/25\n",
      "1716/1716 [==============================] - 24s 14ms/step - loss: 0.6995 - accuracy: 0.7702 - val_loss: 1.2538 - val_accuracy: 0.6492\n",
      "Epoch 12/25\n",
      "1716/1716 [==============================] - 24s 14ms/step - loss: 0.6603 - accuracy: 0.7849 - val_loss: 1.3059 - val_accuracy: 0.6480\n",
      "Epoch 13/25\n",
      "1716/1716 [==============================] - 24s 14ms/step - loss: 0.6338 - accuracy: 0.7928 - val_loss: 1.2971 - val_accuracy: 0.6438\n",
      "Epoch 14/25\n",
      "1716/1716 [==============================] - 24s 14ms/step - loss: 0.6055 - accuracy: 0.8007 - val_loss: 1.2940 - val_accuracy: 0.6495\n",
      "Epoch 15/25\n",
      "1716/1716 [==============================] - 24s 14ms/step - loss: 0.5780 - accuracy: 0.8103 - val_loss: 1.3024 - val_accuracy: 0.6421\n",
      "Epoch 16/25\n",
      "1716/1716 [==============================] - 24s 14ms/step - loss: 0.5540 - accuracy: 0.8173 - val_loss: 1.3164 - val_accuracy: 0.6513\n",
      "Epoch 17/25\n",
      "1716/1716 [==============================] - 25s 14ms/step - loss: 0.5301 - accuracy: 0.8266 - val_loss: 1.3224 - val_accuracy: 0.6569\n",
      "Epoch 18/25\n",
      "1716/1716 [==============================] - 25s 14ms/step - loss: 0.5176 - accuracy: 0.8303 - val_loss: 1.3634 - val_accuracy: 0.6515\n",
      "Epoch 19/25\n",
      "1716/1716 [==============================] - 24s 14ms/step - loss: 0.4994 - accuracy: 0.8371 - val_loss: 1.3726 - val_accuracy: 0.6558\n",
      "Epoch 20/25\n",
      "1716/1716 [==============================] - 28s 16ms/step - loss: 0.4854 - accuracy: 0.8427 - val_loss: 1.4813 - val_accuracy: 0.6466\n",
      "Epoch 21/25\n",
      "1716/1716 [==============================] - 33s 19ms/step - loss: 0.4704 - accuracy: 0.8449 - val_loss: 1.3806 - val_accuracy: 0.6506\n",
      "Epoch 22/25\n",
      "1716/1716 [==============================] - 31s 18ms/step - loss: 0.4581 - accuracy: 0.8525 - val_loss: 1.3572 - val_accuracy: 0.6498\n",
      "Epoch 23/25\n",
      "1716/1716 [==============================] - 28s 16ms/step - loss: 0.4461 - accuracy: 0.8533 - val_loss: 1.4799 - val_accuracy: 0.6525\n",
      "Epoch 24/25\n",
      "1716/1716 [==============================] - 32s 19ms/step - loss: 0.4383 - accuracy: 0.8567 - val_loss: 1.4558 - val_accuracy: 0.6563\n",
      "Epoch 25/25\n",
      "1716/1716 [==============================] - 38s 22ms/step - loss: 0.4221 - accuracy: 0.8624 - val_loss: 1.4865 - val_accuracy: 0.6601\n"
     ]
    }
   ],
   "source": [
    "history = model.fit(x_train, y_train, epochs = 25, validation_data=(x_test, y_test), verbose=1 )"
   ]
  },
  {
   "cell_type": "code",
   "execution_count": 54,
   "metadata": {},
   "outputs": [
    {
     "name": "stdout",
     "output_type": "stream",
     "text": [
      "736/736 [==============================] - 2s 2ms/step\n"
     ]
    }
   ],
   "source": [
    "y_pred = model.predict(x_test)"
   ]
  },
  {
   "cell_type": "code",
   "execution_count": 65,
   "metadata": {},
   "outputs": [],
   "source": [
    "y_pred_list = []\n",
    "for pred in y_pred:\n",
    "    y_pred_list.append(np.argmax(pred))"
   ]
  },
  {
   "cell_type": "code",
   "execution_count": 67,
   "metadata": {},
   "outputs": [],
   "source": [
    "acc = accuracy_score(y_test,y_pred_list)"
   ]
  },
  {
   "cell_type": "code",
   "execution_count": 69,
   "metadata": {},
   "outputs": [
    {
     "name": "stdout",
     "output_type": "stream",
     "text": [
      "The accuracy of the model on test data is 66.0%\n"
     ]
    }
   ],
   "source": [
    "print(\"The accuracy of the model on test data is {}%\".format(round(acc,2)*100))"
   ]
  },
  {
   "cell_type": "code",
   "execution_count": null,
   "metadata": {},
   "outputs": [],
   "source": []
  }
 ],
 "metadata": {
  "kernelspec": {
   "display_name": "hari",
   "language": "python",
   "name": "python3"
  },
  "language_info": {
   "codemirror_mode": {
    "name": "ipython",
    "version": 3
   },
   "file_extension": ".py",
   "mimetype": "text/x-python",
   "name": "python",
   "nbconvert_exporter": "python",
   "pygments_lexer": "ipython3",
   "version": "3.10.13"
  }
 },
 "nbformat": 4,
 "nbformat_minor": 2
}
